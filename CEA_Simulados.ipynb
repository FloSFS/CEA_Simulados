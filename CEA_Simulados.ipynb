{
  "cells": [
    {
      "cell_type": "markdown",
      "metadata": {
        "id": "view-in-github",
        "colab_type": "text"
      },
      "source": [
        "<a href=\"https://colab.research.google.com/github/FloSFS/CEA_Simulados/blob/main/CEA_Simulados.ipynb\" target=\"_parent\"><img src=\"https://colab.research.google.com/assets/colab-badge.svg\" alt=\"Open In Colab\"/></a>"
      ]
    },
    {
      "cell_type": "markdown",
      "metadata": {
        "id": "C0qAVyOlusl-"
      },
      "source": [
        "Para usar se conecte no Drive e garanta que tem acesso a seguinte pasta: [CEA_Simulado](https://drive.google.com/drive/folders/1EAejeMPJpSTachpdoHY5MTdu4Szus2N0?usp=sharing).\n",
        "\n",
        "As questões a seguir são do simulado do [Rafael Toro 2024](https://www.academiarafaeltoro.com.br/materiais/simulado-gratuito-cea/), que contêm ao todo 420 questões.\n",
        "\n",
        "Em andamento:\n",
        "  - Não tem a explicação do gabarito, seja livre para incluir sua prórpia explicação como forma de estudo\n",
        "  - Não há uma separação de assuntos, seja livre para incluir o assunto caso queira um estudo mais focado\n",
        "  - Ainda estou trabalhando na interface para uma melhor leitura das questões.\n",
        "\n",
        "Avisos:\n",
        "- Antes de usar, atualize \"conectar a base\" pelo seu caminho no Drive\n",
        "- Inclua a pasta no seu Drive: '/content/drive/MyDrive/CEA_Simulado' para que não tenha problema com o caminho das imagens.\n",
        "\n",
        "\n",
        "Quer ver meu portifólio? [clique aqui!](https://luanastoppa100.wixsite.com/luanastoppadatascien)"
      ]
    },
    {
      "cell_type": "markdown",
      "metadata": {
        "id": "OShE98NFksDK"
      },
      "source": [
        "# Rodar"
      ]
    },
    {
      "cell_type": "code",
      "execution_count": null,
      "metadata": {
        "colab": {
          "base_uri": "https://localhost:8080/"
        },
        "collapsed": true,
        "id": "UyqWIZrCkGpQ",
        "outputId": "67c1be67-49de-436a-a868-671aeeb07588"
      },
      "outputs": [
        {
          "output_type": "stream",
          "name": "stdout",
          "text": [
            "Requirement already satisfied: google.colab in /usr/local/lib/python3.10/dist-packages (1.0.0)\n",
            "Requirement already satisfied: google-auth==2.27.0 in /usr/local/lib/python3.10/dist-packages (from google.colab) (2.27.0)\n",
            "Requirement already satisfied: ipykernel==5.5.6 in /usr/local/lib/python3.10/dist-packages (from google.colab) (5.5.6)\n",
            "Requirement already satisfied: ipyparallel==8.8.0 in /usr/local/lib/python3.10/dist-packages (from google.colab) (8.8.0)\n",
            "Requirement already satisfied: ipython==7.34.0 in /usr/local/lib/python3.10/dist-packages (from google.colab) (7.34.0)\n",
            "Requirement already satisfied: notebook==6.5.5 in /usr/local/lib/python3.10/dist-packages (from google.colab) (6.5.5)\n",
            "Requirement already satisfied: pandas==2.2.2 in /usr/local/lib/python3.10/dist-packages (from google.colab) (2.2.2)\n",
            "Requirement already satisfied: portpicker==1.5.2 in /usr/local/lib/python3.10/dist-packages (from google.colab) (1.5.2)\n",
            "Requirement already satisfied: requests==2.32.3 in /usr/local/lib/python3.10/dist-packages (from google.colab) (2.32.3)\n",
            "Requirement already satisfied: tornado==6.3.3 in /usr/local/lib/python3.10/dist-packages (from google.colab) (6.3.3)\n",
            "Requirement already satisfied: cachetools<6.0,>=2.0.0 in /usr/local/lib/python3.10/dist-packages (from google-auth==2.27.0->google.colab) (5.5.0)\n",
            "Requirement already satisfied: pyasn1-modules>=0.2.1 in /usr/local/lib/python3.10/dist-packages (from google-auth==2.27.0->google.colab) (0.4.1)\n",
            "Requirement already satisfied: rsa<5,>=3.1.4 in /usr/local/lib/python3.10/dist-packages (from google-auth==2.27.0->google.colab) (4.9)\n",
            "Requirement already satisfied: ipython-genutils in /usr/local/lib/python3.10/dist-packages (from ipykernel==5.5.6->google.colab) (0.2.0)\n",
            "Requirement already satisfied: traitlets>=4.1.0 in /usr/local/lib/python3.10/dist-packages (from ipykernel==5.5.6->google.colab) (5.7.1)\n",
            "Requirement already satisfied: jupyter-client in /usr/local/lib/python3.10/dist-packages (from ipykernel==5.5.6->google.colab) (6.1.12)\n",
            "Requirement already satisfied: decorator in /usr/local/lib/python3.10/dist-packages (from ipyparallel==8.8.0->google.colab) (4.4.2)\n",
            "Requirement already satisfied: entrypoints in /usr/local/lib/python3.10/dist-packages (from ipyparallel==8.8.0->google.colab) (0.4)\n",
            "Requirement already satisfied: psutil in /usr/local/lib/python3.10/dist-packages (from ipyparallel==8.8.0->google.colab) (5.9.5)\n",
            "Requirement already satisfied: python-dateutil>=2.1 in /usr/local/lib/python3.10/dist-packages (from ipyparallel==8.8.0->google.colab) (2.8.2)\n",
            "Requirement already satisfied: pyzmq>=18 in /usr/local/lib/python3.10/dist-packages (from ipyparallel==8.8.0->google.colab) (24.0.1)\n",
            "Requirement already satisfied: tqdm in /usr/local/lib/python3.10/dist-packages (from ipyparallel==8.8.0->google.colab) (4.66.6)\n",
            "Requirement already satisfied: setuptools>=18.5 in /usr/local/lib/python3.10/dist-packages (from ipython==7.34.0->google.colab) (75.1.0)\n",
            "Requirement already satisfied: jedi>=0.16 in /usr/local/lib/python3.10/dist-packages (from ipython==7.34.0->google.colab) (0.19.2)\n",
            "Requirement already satisfied: pickleshare in /usr/local/lib/python3.10/dist-packages (from ipython==7.34.0->google.colab) (0.7.5)\n",
            "Requirement already satisfied: prompt-toolkit!=3.0.0,!=3.0.1,<3.1.0,>=2.0.0 in /usr/local/lib/python3.10/dist-packages (from ipython==7.34.0->google.colab) (3.0.48)\n",
            "Requirement already satisfied: pygments in /usr/local/lib/python3.10/dist-packages (from ipython==7.34.0->google.colab) (2.18.0)\n",
            "Requirement already satisfied: backcall in /usr/local/lib/python3.10/dist-packages (from ipython==7.34.0->google.colab) (0.2.0)\n",
            "Requirement already satisfied: matplotlib-inline in /usr/local/lib/python3.10/dist-packages (from ipython==7.34.0->google.colab) (0.1.7)\n",
            "Requirement already satisfied: pexpect>4.3 in /usr/local/lib/python3.10/dist-packages (from ipython==7.34.0->google.colab) (4.9.0)\n",
            "Requirement already satisfied: jinja2 in /usr/local/lib/python3.10/dist-packages (from notebook==6.5.5->google.colab) (3.1.4)\n",
            "Requirement already satisfied: argon2-cffi in /usr/local/lib/python3.10/dist-packages (from notebook==6.5.5->google.colab) (23.1.0)\n",
            "Requirement already satisfied: jupyter-core>=4.6.1 in /usr/local/lib/python3.10/dist-packages (from notebook==6.5.5->google.colab) (5.7.2)\n",
            "Requirement already satisfied: nbformat in /usr/local/lib/python3.10/dist-packages (from notebook==6.5.5->google.colab) (5.10.4)\n",
            "Requirement already satisfied: nbconvert>=5 in /usr/local/lib/python3.10/dist-packages (from notebook==6.5.5->google.colab) (7.16.4)\n",
            "Requirement already satisfied: nest-asyncio>=1.5 in /usr/local/lib/python3.10/dist-packages (from notebook==6.5.5->google.colab) (1.6.0)\n",
            "Requirement already satisfied: Send2Trash>=1.8.0 in /usr/local/lib/python3.10/dist-packages (from notebook==6.5.5->google.colab) (1.8.3)\n",
            "Requirement already satisfied: terminado>=0.8.3 in /usr/local/lib/python3.10/dist-packages (from notebook==6.5.5->google.colab) (0.18.1)\n",
            "Requirement already satisfied: prometheus-client in /usr/local/lib/python3.10/dist-packages (from notebook==6.5.5->google.colab) (0.21.0)\n",
            "Requirement already satisfied: nbclassic>=0.4.7 in /usr/local/lib/python3.10/dist-packages (from notebook==6.5.5->google.colab) (1.1.0)\n",
            "Requirement already satisfied: numpy>=1.22.4 in /usr/local/lib/python3.10/dist-packages (from pandas==2.2.2->google.colab) (1.26.4)\n",
            "Requirement already satisfied: pytz>=2020.1 in /usr/local/lib/python3.10/dist-packages (from pandas==2.2.2->google.colab) (2024.2)\n",
            "Requirement already satisfied: tzdata>=2022.7 in /usr/local/lib/python3.10/dist-packages (from pandas==2.2.2->google.colab) (2024.2)\n",
            "Requirement already satisfied: charset-normalizer<4,>=2 in /usr/local/lib/python3.10/dist-packages (from requests==2.32.3->google.colab) (3.4.0)\n",
            "Requirement already satisfied: idna<4,>=2.5 in /usr/local/lib/python3.10/dist-packages (from requests==2.32.3->google.colab) (3.10)\n",
            "Requirement already satisfied: urllib3<3,>=1.21.1 in /usr/local/lib/python3.10/dist-packages (from requests==2.32.3->google.colab) (2.2.3)\n",
            "Requirement already satisfied: certifi>=2017.4.17 in /usr/local/lib/python3.10/dist-packages (from requests==2.32.3->google.colab) (2024.8.30)\n",
            "Requirement already satisfied: parso<0.9.0,>=0.8.4 in /usr/local/lib/python3.10/dist-packages (from jedi>=0.16->ipython==7.34.0->google.colab) (0.8.4)\n",
            "Requirement already satisfied: platformdirs>=2.5 in /usr/local/lib/python3.10/dist-packages (from jupyter-core>=4.6.1->notebook==6.5.5->google.colab) (4.3.6)\n",
            "Requirement already satisfied: notebook-shim>=0.2.3 in /usr/local/lib/python3.10/dist-packages (from nbclassic>=0.4.7->notebook==6.5.5->google.colab) (0.2.4)\n",
            "Requirement already satisfied: beautifulsoup4 in /usr/local/lib/python3.10/dist-packages (from nbconvert>=5->notebook==6.5.5->google.colab) (4.12.3)\n",
            "Requirement already satisfied: bleach!=5.0.0 in /usr/local/lib/python3.10/dist-packages (from nbconvert>=5->notebook==6.5.5->google.colab) (6.2.0)\n",
            "Requirement already satisfied: defusedxml in /usr/local/lib/python3.10/dist-packages (from nbconvert>=5->notebook==6.5.5->google.colab) (0.7.1)\n",
            "Requirement already satisfied: jupyterlab-pygments in /usr/local/lib/python3.10/dist-packages (from nbconvert>=5->notebook==6.5.5->google.colab) (0.3.0)\n",
            "Requirement already satisfied: markupsafe>=2.0 in /usr/local/lib/python3.10/dist-packages (from nbconvert>=5->notebook==6.5.5->google.colab) (3.0.2)\n",
            "Requirement already satisfied: mistune<4,>=2.0.3 in /usr/local/lib/python3.10/dist-packages (from nbconvert>=5->notebook==6.5.5->google.colab) (3.0.2)\n",
            "Requirement already satisfied: nbclient>=0.5.0 in /usr/local/lib/python3.10/dist-packages (from nbconvert>=5->notebook==6.5.5->google.colab) (0.10.0)\n",
            "Requirement already satisfied: packaging in /usr/local/lib/python3.10/dist-packages (from nbconvert>=5->notebook==6.5.5->google.colab) (24.2)\n",
            "Requirement already satisfied: pandocfilters>=1.4.1 in /usr/local/lib/python3.10/dist-packages (from nbconvert>=5->notebook==6.5.5->google.colab) (1.5.1)\n",
            "Requirement already satisfied: tinycss2 in /usr/local/lib/python3.10/dist-packages (from nbconvert>=5->notebook==6.5.5->google.colab) (1.4.0)\n",
            "Requirement already satisfied: fastjsonschema>=2.15 in /usr/local/lib/python3.10/dist-packages (from nbformat->notebook==6.5.5->google.colab) (2.20.0)\n",
            "Requirement already satisfied: jsonschema>=2.6 in /usr/local/lib/python3.10/dist-packages (from nbformat->notebook==6.5.5->google.colab) (4.23.0)\n",
            "Requirement already satisfied: ptyprocess>=0.5 in /usr/local/lib/python3.10/dist-packages (from pexpect>4.3->ipython==7.34.0->google.colab) (0.7.0)\n",
            "Requirement already satisfied: wcwidth in /usr/local/lib/python3.10/dist-packages (from prompt-toolkit!=3.0.0,!=3.0.1,<3.1.0,>=2.0.0->ipython==7.34.0->google.colab) (0.2.13)\n",
            "Requirement already satisfied: pyasn1<0.7.0,>=0.4.6 in /usr/local/lib/python3.10/dist-packages (from pyasn1-modules>=0.2.1->google-auth==2.27.0->google.colab) (0.6.1)\n",
            "Requirement already satisfied: six>=1.5 in /usr/local/lib/python3.10/dist-packages (from python-dateutil>=2.1->ipyparallel==8.8.0->google.colab) (1.16.0)\n",
            "Requirement already satisfied: argon2-cffi-bindings in /usr/local/lib/python3.10/dist-packages (from argon2-cffi->notebook==6.5.5->google.colab) (21.2.0)\n",
            "Requirement already satisfied: webencodings in /usr/local/lib/python3.10/dist-packages (from bleach!=5.0.0->nbconvert>=5->notebook==6.5.5->google.colab) (0.5.1)\n",
            "Requirement already satisfied: attrs>=22.2.0 in /usr/local/lib/python3.10/dist-packages (from jsonschema>=2.6->nbformat->notebook==6.5.5->google.colab) (24.2.0)\n",
            "Requirement already satisfied: jsonschema-specifications>=2023.03.6 in /usr/local/lib/python3.10/dist-packages (from jsonschema>=2.6->nbformat->notebook==6.5.5->google.colab) (2024.10.1)\n",
            "Requirement already satisfied: referencing>=0.28.4 in /usr/local/lib/python3.10/dist-packages (from jsonschema>=2.6->nbformat->notebook==6.5.5->google.colab) (0.35.1)\n",
            "Requirement already satisfied: rpds-py>=0.7.1 in /usr/local/lib/python3.10/dist-packages (from jsonschema>=2.6->nbformat->notebook==6.5.5->google.colab) (0.21.0)\n",
            "Requirement already satisfied: jupyter-server<3,>=1.8 in /usr/local/lib/python3.10/dist-packages (from notebook-shim>=0.2.3->nbclassic>=0.4.7->notebook==6.5.5->google.colab) (1.24.0)\n",
            "Requirement already satisfied: cffi>=1.0.1 in /usr/local/lib/python3.10/dist-packages (from argon2-cffi-bindings->argon2-cffi->notebook==6.5.5->google.colab) (1.17.1)\n",
            "Requirement already satisfied: soupsieve>1.2 in /usr/local/lib/python3.10/dist-packages (from beautifulsoup4->nbconvert>=5->notebook==6.5.5->google.colab) (2.6)\n",
            "Requirement already satisfied: pycparser in /usr/local/lib/python3.10/dist-packages (from cffi>=1.0.1->argon2-cffi-bindings->argon2-cffi->notebook==6.5.5->google.colab) (2.22)\n",
            "Requirement already satisfied: anyio<4,>=3.1.0 in /usr/local/lib/python3.10/dist-packages (from jupyter-server<3,>=1.8->notebook-shim>=0.2.3->nbclassic>=0.4.7->notebook==6.5.5->google.colab) (3.7.1)\n",
            "Requirement already satisfied: websocket-client in /usr/local/lib/python3.10/dist-packages (from jupyter-server<3,>=1.8->notebook-shim>=0.2.3->nbclassic>=0.4.7->notebook==6.5.5->google.colab) (1.8.0)\n",
            "Requirement already satisfied: sniffio>=1.1 in /usr/local/lib/python3.10/dist-packages (from anyio<4,>=3.1.0->jupyter-server<3,>=1.8->notebook-shim>=0.2.3->nbclassic>=0.4.7->notebook==6.5.5->google.colab) (1.3.1)\n",
            "Requirement already satisfied: exceptiongroup in /usr/local/lib/python3.10/dist-packages (from anyio<4,>=3.1.0->jupyter-server<3,>=1.8->notebook-shim>=0.2.3->nbclassic>=0.4.7->notebook==6.5.5->google.colab) (1.2.2)\n",
            "Drive already mounted at /content/drive; to attempt to forcibly remount, call drive.mount(\"/content/drive\", force_remount=True).\n"
          ]
        }
      ],
      "source": [
        "!pip install google.colab\n",
        "from google.colab import drive\n",
        "drive.mount('/content/drive')"
      ]
    },
    {
      "cell_type": "markdown",
      "metadata": {
        "id": "pdERxMWnifxk"
      },
      "source": [
        "## Install e Imports"
      ]
    },
    {
      "cell_type": "code",
      "execution_count": null,
      "metadata": {
        "colab": {
          "base_uri": "https://localhost:8080/"
        },
        "id": "-s3AfLAXzRm-",
        "outputId": "752c092a-4df3-4604-f4ff-0c3c130110af"
      },
      "outputs": [
        {
          "output_type": "stream",
          "name": "stdout",
          "text": [
            "Requirement already satisfied: pandas in /usr/local/lib/python3.10/dist-packages (2.2.2)\n",
            "Requirement already satisfied: numpy>=1.22.4 in /usr/local/lib/python3.10/dist-packages (from pandas) (1.26.4)\n",
            "Requirement already satisfied: python-dateutil>=2.8.2 in /usr/local/lib/python3.10/dist-packages (from pandas) (2.8.2)\n",
            "Requirement already satisfied: pytz>=2020.1 in /usr/local/lib/python3.10/dist-packages (from pandas) (2024.2)\n",
            "Requirement already satisfied: tzdata>=2022.7 in /usr/local/lib/python3.10/dist-packages (from pandas) (2024.2)\n",
            "Requirement already satisfied: six>=1.5 in /usr/local/lib/python3.10/dist-packages (from python-dateutil>=2.8.2->pandas) (1.16.0)\n",
            "\u001b[31mERROR: Could not find a version that satisfies the requirement random (from versions: none)\u001b[0m\u001b[31m\n",
            "\u001b[0m\u001b[31mERROR: No matching distribution found for random\u001b[0m\u001b[31m\n",
            "\u001b[0m\u001b[31mERROR: Could not find a version that satisfies the requirement os (from versions: none)\u001b[0m\u001b[31m\n",
            "\u001b[0m\u001b[31mERROR: No matching distribution found for os\u001b[0m\u001b[31m\n",
            "\u001b[0mRequirement already satisfied: IPython in /usr/local/lib/python3.10/dist-packages (7.34.0)\n",
            "Requirement already satisfied: setuptools>=18.5 in /usr/local/lib/python3.10/dist-packages (from IPython) (75.1.0)\n",
            "Requirement already satisfied: jedi>=0.16 in /usr/local/lib/python3.10/dist-packages (from IPython) (0.19.2)\n",
            "Requirement already satisfied: decorator in /usr/local/lib/python3.10/dist-packages (from IPython) (4.4.2)\n",
            "Requirement already satisfied: pickleshare in /usr/local/lib/python3.10/dist-packages (from IPython) (0.7.5)\n",
            "Requirement already satisfied: traitlets>=4.2 in /usr/local/lib/python3.10/dist-packages (from IPython) (5.7.1)\n",
            "Requirement already satisfied: prompt-toolkit!=3.0.0,!=3.0.1,<3.1.0,>=2.0.0 in /usr/local/lib/python3.10/dist-packages (from IPython) (3.0.48)\n",
            "Requirement already satisfied: pygments in /usr/local/lib/python3.10/dist-packages (from IPython) (2.18.0)\n",
            "Requirement already satisfied: backcall in /usr/local/lib/python3.10/dist-packages (from IPython) (0.2.0)\n",
            "Requirement already satisfied: matplotlib-inline in /usr/local/lib/python3.10/dist-packages (from IPython) (0.1.7)\n",
            "Requirement already satisfied: pexpect>4.3 in /usr/local/lib/python3.10/dist-packages (from IPython) (4.9.0)\n",
            "Requirement already satisfied: parso<0.9.0,>=0.8.4 in /usr/local/lib/python3.10/dist-packages (from jedi>=0.16->IPython) (0.8.4)\n",
            "Requirement already satisfied: ptyprocess>=0.5 in /usr/local/lib/python3.10/dist-packages (from pexpect>4.3->IPython) (0.7.0)\n",
            "Requirement already satisfied: wcwidth in /usr/local/lib/python3.10/dist-packages (from prompt-toolkit!=3.0.0,!=3.0.1,<3.1.0,>=2.0.0->IPython) (0.2.13)\n"
          ]
        }
      ],
      "source": [
        "!pip install pandas\n",
        "!pip install random\n",
        "!pip install os\n",
        "!pip install IPython\n"
      ]
    },
    {
      "cell_type": "code",
      "execution_count": null,
      "metadata": {
        "id": "4IkQON3Qi9C1"
      },
      "outputs": [],
      "source": [
        "import pandas as pd\n",
        "\n",
        "from google.colab import files\n",
        "import random\n",
        "import pandas as pd\n",
        "from IPython.display import Image, display\n",
        "from IPython.display import Image\n",
        "import os"
      ]
    },
    {
      "cell_type": "markdown",
      "metadata": {
        "id": "K2CBB9TTjFXu"
      },
      "source": [
        "## Conectar a base"
      ]
    },
    {
      "cell_type": "code",
      "execution_count": null,
      "metadata": {
        "colab": {
          "base_uri": "https://localhost:8080/"
        },
        "id": "UJ4ZJ3X8zX7f",
        "outputId": "adfd9fbe-ac95-4ab3-e0c6-0a07a34ed352"
      },
      "outputs": [
        {
          "output_type": "stream",
          "name": "stdout",
          "text": [
            "    id  questao                                           pergunta imagem  \\\n",
            "0  1_1        1  O órgão responsável pelo controle e fiscalizaç...    NaN   \n",
            "1  2_1        2  Segundo a Lei Complementar nº 179, de 24 de fe...    NaN   \n",
            "2  3_1        3  Segundo o Código ANBIMA de Distribuição de Pro...    NaN   \n",
            "3  4_1        4  Segundo o Código Anbima de Distribuição de Pro...    NaN   \n",
            "4  5_1        5  São considerados indícios do crime de lavagem ...    NaN   \n",
            "\n",
            "                                              opcoes resposta explicação?  \\\n",
            "0  a) a CVM - Comissão de Valores Mobiliários. b)...        c    Em falta   \n",
            "1  a) Conselho Monetário Nacional b) Superior Tri...        d    Em falta   \n",
            "2  a) da Caderneta de Poupança. b) dos Títulos Pú...        a    Em falta   \n",
            "3  a) fundos de investimento. b) fundos de invest...        a    Em falta   \n",
            "4  a) I, apenas. b) II, apenas. c) I e II. d) Nen...        c    Em falta   \n",
            "\n",
            "  assunto  ex_simulado link  \n",
            "0   Todos            1  NaN  \n",
            "1   Todos            1  NaN  \n",
            "2   Todos            1  NaN  \n",
            "3   Todos            1  NaN  \n",
            "4   Todos            1  NaN  \n"
          ]
        }
      ],
      "source": [
        "# Substitua pelo caminho do seu DRIVE!\n",
        "file_path_drive = '/content/drive/MyDrive/dadosbot/CEA_Simulado/Base_CEA_Simulados.xlsx'\n",
        "simulado = 'Base_CEA_Simulados.xlsx'\n",
        "!cp \"{file_path_drive}\" \"{simulado}\"\n",
        "df = pd.read_excel(simulado)\n",
        "print(df.head())\n",
        "\n",
        "#Apaga o arquivo local\n",
        "#!rm \"{}\""
      ]
    },
    {
      "cell_type": "markdown",
      "metadata": {
        "id": "qEf2_R6XjU4q"
      },
      "source": [
        "## Funções"
      ]
    },
    {
      "cell_type": "code",
      "execution_count": null,
      "metadata": {
        "id": "l756WnQu3y7N"
      },
      "outputs": [],
      "source": [
        "from google.colab import drive\n",
        "from IPython.display import Image\n",
        "import time\n",
        "#teste de imagem por caminho 7.0 - trabalhando com base no 2\n",
        "\n",
        "def mostrar_assuntos():\n",
        "    assuntos = df['assunto'].unique().tolist()\n",
        "    print(\"Assuntos disponíveis:\")\n",
        "    for i, assunto in enumerate(assuntos):\n",
        "        print(f\"{i+1}. {assunto}\")\n",
        "    return assuntos\n",
        "\n",
        "\n",
        "def selecionar_questoes(assunto, num_questoes):\n",
        "    df_assunto = df[df['assunto'] == assunto]\n",
        "    if len(df_assunto) < num_questoes:\n",
        "        print(f\"Não há {num_questoes} questões suficientes sobre '{assunto}'. Selecionando todas as disponíveis.\")\n",
        "        ids_questoes = df_assunto['id'].tolist()\n",
        "    else:\n",
        "        ids_questoes = random.sample(df_assunto['id'].tolist(), num_questoes)\n",
        "    return ids_questoes\n",
        "\n",
        "def exibir_opcoes(opcoes):\n",
        "    opcoes_lista = [opcao.strip() for opcao in opcoes.split(';')]  # Remove espaços extras\n",
        "    opcoes_combinadas = \" \".join(opcoes_lista)  # Junta as opções com espaços\n",
        "    print(opcoes_combinadas)\n",
        "\n",
        "def fazer_quiz(ids_questoes):\n",
        "    acertos = 0\n",
        "    respostas_usuario = []\n",
        "    respostas_erradas = []\n",
        "\n",
        "    print(\"Entrando na função fazer_quiz\")  # Adicionado para depuração\n",
        "    print(f\"IDs das questões: {ids_questoes}\")  # Adicionado para depuração\n",
        "\n",
        "    for questao_id in ids_questoes:\n",
        "        print(f\"Questão ID: {questao_id}\")\n",
        "        questao = df[df['id'] == questao_id]\n",
        "        pergunta = questao['pergunta'].iloc[0]\n",
        "        resposta_correta = questao['resposta'].iloc[0]\n",
        "        opcoes = questao['opcoes'].iloc[0]\n",
        "        explicacao = questao['explicação?'].iloc[0]\n",
        "        imagem_path = questao['imagem'].iloc[0]\n",
        "\n",
        "        print(\"\\nPergunta:\")\n",
        "        print(pergunta)\n",
        "\n",
        "        # Verifica e exibe a imagem - CORRIGIDO: agora está DENTRO do loop for\n",
        "        if pd.notnull(imagem_path) and isinstance(imagem_path, str):\n",
        "            try:\n",
        "                if os.path.exists(imagem_path):\n",
        "                    display(Image(filename=imagem_path))\n",
        "                    time.sleep(3)  # Espera 3 segundos. Ajuste conforme necessário.\n",
        "                else:\n",
        "                    print(f\"Aviso: Imagem não encontrada em: {imagem_path}\") # link removido por falta de definição.\n",
        "            except Exception as e:\n",
        "                print(f\"Erro ao exibir imagem: {e}\")\n",
        "\n",
        "        exibir_opcoes(opcoes)\n",
        "\n",
        "        while True:  # loop para entrada válida\n",
        "            try:\n",
        "                resposta_usuario = input(\"Escolha a opção (a, b, c ou d): \").lower().strip()\n",
        "                if resposta_usuario in ['a', 'b', 'c', 'd']:\n",
        "                    break\n",
        "                else:\n",
        "                    print(\"Opção inválida. Por favor, escolha a, b, c ou d.\")\n",
        "            except ValueError:  # Captura erros de entrada\n",
        "                print(\"Entrada inválida. Por favor, digite apenas uma letra (a, b, c ou d).\")\n",
        "\n",
        "        # Adiciona a resposta APENAS UMA VEZ aqui\n",
        "        respostas_usuario.append({\n",
        "            'id': questao_id,\n",
        "            'pergunta': pergunta,\n",
        "            'resposta_correta': resposta_correta,\n",
        "            'resposta_usuario': resposta_usuario,\n",
        "            'opcoes': opcoes,\n",
        "            'explicacao': explicacao,\n",
        "            'imagem': imagem_path\n",
        "        })\n",
        "\n",
        "        if resposta_usuario == resposta_correta.lower():\n",
        "            print(\"Resposta correta!\")\n",
        "            acertos += 1\n",
        "        else:\n",
        "            print(f\"Resposta incorreta. A resposta correta era: {resposta_correta}\")\n",
        "            respostas_erradas.append({\n",
        "                'pergunta': pergunta,\n",
        "                'resposta_correta': resposta_correta,\n",
        "                'resposta_usuario': resposta_usuario,\n",
        "                'opcoes': opcoes,\n",
        "                'explicacao': explicacao,\n",
        "                'imagem': imagem_path\n",
        "            })\n",
        "\n",
        "    print(f\"\\nVocê acertou {acertos} de {len(ids_questoes)} questões.\")\n",
        "\n",
        "    # Mostrando as explicações das respostas erradas:\n",
        "    if respostas_erradas:\n",
        "        print(\"\\nExplicações das respostas erradas:\")\n",
        "        for resposta_errada in respostas_erradas:\n",
        "            print(f\"\\nPergunta: {resposta_errada['pergunta']}\")\n",
        "            print(f\"Opções: {resposta_errada['opcoes']}\")\n",
        "            print(f\"Sua resposta: {resposta_errada['resposta_usuario']}\")\n",
        "            print(f\"Resposta correta: {resposta_errada['resposta_correta']}\")\n",
        "            print(f\"Explicação: {resposta_errada['explicacao']}\")\n",
        "    else:\n",
        "        print(\"\\nVocê não errou nenhuma questão!\")\n",
        "\n",
        "    return respostas_usuario\n"
      ]
    },
    {
      "cell_type": "markdown",
      "source": [
        "## Salvando suas respostas (opcional)"
      ],
      "metadata": {
        "id": "9gDu0W0oG3sw"
      }
    },
    {
      "cell_type": "code",
      "source": [
        "# Salvando as respostas - Aqui você pode copiar esse código sem o # e colocar dentro do quiz após a linha de \"resposta = fazer_quiz(id_questoes)\"\n",
        "\n",
        "#df_respostas = pd.DataFrame(respostas)\n",
        "#df_respostas.to_csv('respostas_quiz.csv', index=False, encoding='utf-8')\n",
        "#print(\"\\nRespostas salvas em 'respostas_quiz.csv'\")"
      ],
      "metadata": {
        "colab": {
          "base_uri": "https://localhost:8080/"
        },
        "id": "OsIl-g5WG1Yn",
        "outputId": "7cd47bfd-8745-4629-f68e-55f7a7591c86"
      },
      "execution_count": null,
      "outputs": [
        {
          "output_type": "stream",
          "name": "stdout",
          "text": [
            "\n",
            "Respostas salvas em 'respostas_quiz.csv'\n"
          ]
        }
      ]
    },
    {
      "cell_type": "markdown",
      "metadata": {
        "id": "0p8tuvaJ_ZM9"
      },
      "source": [
        "# Quiz"
      ]
    },
    {
      "cell_type": "code",
      "source": [
        "# Quiz\n",
        "assuntos = mostrar_assuntos()\n",
        "escolha_assunto = int(input(\"Escolha o número do assunto: \")) - 1\n",
        "if 0 <= escolha_assunto < len(assuntos):\n",
        "    assunto_escolhido = assuntos[escolha_assunto]\n",
        "else:\n",
        "    print(\"Assunto inválido.\")\n",
        "    exit()\n",
        "\n",
        "num_questoes = int(input(\"Quantas questões você quer responder? \"))\n",
        "\n",
        "ids_questoes = selecionar_questoes(assunto_escolhido, num_questoes)\n",
        "respostas = fazer_quiz(ids_questoes)"
      ],
      "metadata": {
        "colab": {
          "base_uri": "https://localhost:8080/",
          "height": 1000
        },
        "id": "NRXrFemUEI91",
        "outputId": "0fd41159-5fb6-482b-89fd-817296312ad7"
      },
      "execution_count": null,
      "outputs": [
        {
          "output_type": "stream",
          "name": "stdout",
          "text": [
            "Assuntos disponíveis:\n",
            "1. Todos\n",
            "Escolha o número do assunto: 1\n",
            "Quantas questões você quer responder? 5\n",
            "Entrando na função fazer_quiz\n",
            "IDs das questões: ['43_5', '33_2', '3_1', '58_3', '41_3']\n",
            "Questão ID: 43_5\n",
            "\n",
            "Pergunta:\n",
            "Para o investidor pessoa física que faz a sua declaração de imposto de renda pelo modelo simplificado, o percentual máximo de contribuição em um PGBL sobre a renda bruta a ser lançado para dedução da base de cálculo de IR será de:\n",
            "a) 0% b) 10% c) 12% d) 20%\n",
            "Escolha a opção (a, b, c ou d): b\n",
            "Resposta incorreta. A resposta correta era: a\n",
            "Questão ID: 33_2\n",
            "\n",
            "Pergunta:\n",
            "Sobre o Fundo de Investimento Imobiliário (FII): I – As classes de cotas devem ser constituídas em regime fechado e podem ter prazo de duração indeterminado. II – Pode ser objeto de oferta para investidores de varejo ou qualificados. III – Pode adquirir a participação em empreendimentos imobiliários, por meio de Letra Hipotecária (LH), Letra de Crédito Imobiliário (LCI) e Certificados de Recebíveis Imobiliários (CRI). Está correto o que se afirma em:\n",
            "a) I, apenas. b) I e III, apenas. c) II e III, apenas. d) I, II e III.\n",
            "Escolha a opção (a, b, c ou d): c\n",
            "Resposta incorreta. A resposta correta era: d\n",
            "Questão ID: 3_1\n",
            "\n",
            "Pergunta:\n",
            "Segundo o Código ANBIMA de Distribuição de Produtos de Investimento, as instituições participantes estão dispensadas de observar os artigos dispostos no Código, na distribuição\n",
            "a) da Caderneta de Poupança. b) dos Títulos Públicos Federais. c) do Fundo de Investimento de Renda Fixa Simples. d) do Certificado de Depósito Bancário.\n",
            "Escolha a opção (a, b, c ou d): d\n",
            "Resposta incorreta. A resposta correta era: a\n",
            "Questão ID: 58_3\n",
            "\n",
            "Pergunta:\n",
            "Caso um investidor tenha que selecionar um dos fundos abaixo, utilizando o Índice de Treynor, qual ele selecionará?\n"
          ]
        },
        {
          "output_type": "display_data",
          "data": {
            "image/png": "[encoded data removed]",
            "text/plain": [
              "<IPython.core.display.Image object>"
            ]
          },
          "metadata": {}
        },
        {
          "output_type": "stream",
          "name": "stdout",
          "text": [
            "a) I b) II c) III d) IV\n",
            "Escolha a opção (a, b, c ou d): c\n",
            "Resposta incorreta. A resposta correta era: a\n",
            "Questão ID: 41_3\n",
            "\n",
            "Pergunta:\n",
            "Um senhor com 60 anos quer contratar um Plano complementar de previdência, realizando um aporte único e desejando obter uma renda vitalícia. Esse plano de previdência:\n",
            "a) pode ser contratado, indiferentemente do plano de previdência escolhido, pois os mesmos não possuem limite de idades. b) não pode ser contratado, pois a idade do investidor ultrapassa a idade máxima para tal investimento. c) pode contratar, tendo em vista que é renda vitalícia. d) depende do tipo de plano contratado.\n",
            "Escolha a opção (a, b, c ou d): a\n",
            "Resposta correta!\n",
            "\n",
            "Você acertou 1 de 5 questões.\n",
            "\n",
            "Explicações das respostas erradas:\n",
            "\n",
            "Pergunta: Para o investidor pessoa física que faz a sua declaração de imposto de renda pelo modelo simplificado, o percentual máximo de contribuição em um PGBL sobre a renda bruta a ser lançado para dedução da base de cálculo de IR será de:\n",
            "Opções: a) 0% b) 10% c) 12% d) 20%\n",
            "Sua resposta: b\n",
            "Resposta correta: a\n",
            "Explicação: Em falta\n",
            "\n",
            "Pergunta: Sobre o Fundo de Investimento Imobiliário (FII): I – As classes de cotas devem ser constituídas em regime fechado e podem ter prazo de duração indeterminado. II – Pode ser objeto de oferta para investidores de varejo ou qualificados. III – Pode adquirir a participação em empreendimentos imobiliários, por meio de Letra Hipotecária (LH), Letra de Crédito Imobiliário (LCI) e Certificados de Recebíveis Imobiliários (CRI). Está correto o que se afirma em:\n",
            "Opções: a) I, apenas. b) I e III, apenas. c) II e III, apenas. d) I, II e III.\n",
            "Sua resposta: c\n",
            "Resposta correta: d\n",
            "Explicação: Em falta\n",
            "\n",
            "Pergunta: Segundo o Código ANBIMA de Distribuição de Produtos de Investimento, as instituições participantes estão dispensadas de observar os artigos dispostos no Código, na distribuição\n",
            "Opções: a) da Caderneta de Poupança. b) dos Títulos Públicos Federais. c) do Fundo de Investimento de Renda Fixa Simples. d) do Certificado de Depósito Bancário.\n",
            "Sua resposta: d\n",
            "Resposta correta: a\n",
            "Explicação: Em falta\n",
            "\n",
            "Pergunta: Caso um investidor tenha que selecionar um dos fundos abaixo, utilizando o Índice de Treynor, qual ele selecionará?\n",
            "Opções: a) I b) II c) III d) IV\n",
            "Sua resposta: c\n",
            "Resposta correta: a\n",
            "Explicação: Em falta\n"
          ]
        }
      ]
    }
  ],
  "metadata": {
    "colab": {
      "collapsed_sections": [
        "OShE98NFksDK",
        "pdERxMWnifxk",
        "K2CBB9TTjFXu",
        "qEf2_R6XjU4q"
      ],
      "provenance": [],
      "mount_file_id": "1OfCbt6T5xNvvSX4MGaLtNRSJek7hoG_Z",
      "authorship_tag": "ABX9TyPftvJSzYjEx0gnAQ4kZR8L",
      "include_colab_link": true
    },
    "kernelspec": {
      "display_name": "Python 3",
      "name": "python3"
    },
    "language_info": {
      "name": "python"
    }
  },
  "nbformat": 4,
  "nbformat_minor": 0
}